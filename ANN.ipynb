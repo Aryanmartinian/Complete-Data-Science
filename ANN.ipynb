{
 "cells": [
  {
   "cell_type": "markdown",
   "metadata": {},
   "source": [
    "### Gradient Descent -"
   ]
  },
  {
   "cell_type": "code",
   "execution_count": 1,
   "metadata": {},
   "outputs": [],
   "source": [
    "import numpy as np\n",
    "def gd(x,y):\n",
    "    m = c = 0\n",
    "    lr = 0.01\n",
    "    n = len(x)\n",
    "    for i in range(100):\n",
    "        yp = m*x+c\n",
    "        cost = (1/n) * sum([j**2 for j in (y-yp)])\n",
    "        md = -(2/n) * sum(x*(y-yp))\n",
    "        cd = -(2/n) * sum(y-yp)\n",
    "        m = m - lr * md\n",
    "        c = c - lr * cd\n",
    "        print(\"m = \",m,\" & \",\"c = \",c,\"cost = \",cost,\"iteration = \",i)\n"
   ]
  },
  {
   "cell_type": "code",
   "execution_count": 2,
   "metadata": {},
   "outputs": [],
   "source": [
    "x = np.array([1,2,3,4,5,6,7,8,9,10])\n",
    "y = np.array([2,4,6,8,10,12,14,16,18,20])"
   ]
  },
  {
   "cell_type": "code",
   "execution_count": 3,
   "metadata": {},
   "outputs": [
    {
     "name": "stdout",
     "output_type": "stream",
     "text": [
      "m =  1.54  &  c =  0.22 cost =  154.0 iteration =  0\n",
      "m =  1.87  &  c =  0.2662 cost =  7.081799999999998 iteration =  1\n",
      "m =  1.940818  &  c =  0.275176 cost =  0.3408464399999985 iteration =  2\n",
      "m =  1.9561187800000002  &  c =  0.2761825 cost =  0.03142830589800044 iteration =  3\n",
      "m =  1.9595272444  &  c =  0.2754857842 cost =  0.017099414381603204 iteration =  4\n",
      "m =  1.96038782995  &  c =  0.27442807163199995 cost =  0.016310752244585888 iteration =  5\n",
      "m =  1.9607021130089801  &  c =  0.27329684890485995 cost =  0.01614443527857366 iteration =  6\n",
      "m =  1.960898832612531  &  c =  0.27215367949577496 cost =  0.016007763100830928 iteration =  7\n",
      "m =  1.961069826756347  &  c =  0.271011734318481 cost =  0.015873532621130646 iteration =  8\n",
      "m =  1.961234769378927  &  c =  0.26987381868891325 cost =  0.015740486657478563 iteration =  9\n",
      "m =  1.9613978769013727  &  c =  0.26874051768345303 cost =  0.01560855853955899 iteration =  10\n",
      "m =  1.961560054742136  &  c =  0.26761194087063295 cost =  0.015477736294790618 iteration =  11\n",
      "m =  1.9617214990949217  &  c =  0.26648809603158535 cost =  0.015348010534912464 iteration =  12\n",
      "m =  1.9618822542283576  &  c =  0.2653689692105123 cost =  0.01521937206431854 iteration =  13\n",
      "m =  1.962042331859366  &  c =  0.2642545418611827 cost =  0.015091811769704767 iteration =  14\n",
      "m =  1.9622017367229243  &  c =  0.2631447945194288 cost =  0.014965320614389455 iteration =  15\n",
      "m =  1.9623604720491354  &  c =  0.26203970758951856 cost =  0.014839889637441848 iteration =  16\n",
      "m =  1.962518540736454  &  c =  0.2609392615123233 cost =  0.014715509953038412 iteration =  17\n",
      "m =  1.962675945603029  &  c =  0.25984343680106686 cost =  0.014592172749830554 iteration =  18\n",
      "m =  1.9628326894405794  &  c =  0.25875221404871235 cost =  0.0144698692903219 iteration =  19\n",
      "m =  1.962988775025975  &  c =  0.25766557392927436 cost =  0.014348590910248916 iteration =  20\n",
      "m =  1.9631442051237542  &  c =  0.25658349719783163 cost =  0.014228329017967157 iteration =  21\n",
      "m =  1.963298982486702  &  c =  0.25550596469026204 cost =  0.014109075093842328 iteration =  22\n",
      "m =  1.9634531098560126  &  c =  0.2544329573229196 cost =  0.01399082068964708 iteration =  23\n",
      "m =  1.963606589961362  &  c =  0.25336445609229985 cost =  0.013873557427962625 iteration =  24\n",
      "m =  1.9637594255209603  &  c =  0.25230044207470403 cost =  0.013757277001584559 iteration =  25\n",
      "m =  1.9639116192416033  &  c =  0.2512408964259043 cost =  0.013641971172935209 iteration =  26\n",
      "m =  1.964063173818719  &  c =  0.25018580038080984 cost =  0.01352763177347976 iteration =  27\n",
      "m =  1.9642140919364162  &  c =  0.24913513525313452 cost =  0.01341425070314707 iteration =  28\n",
      "m =  1.964364376267531  &  c =  0.24808888243506605 cost =  0.013301819929756537 iteration =  29\n",
      "m =  1.9645140294736747  &  c =  0.24704702339693632 cost =  0.013190331488448904 iteration =  30\n",
      "m =  1.964663054205282  &  c =  0.24600953968689337 cost =  0.013079777481121766 iteration =  31\n",
      "m =  1.9648114531016565  &  c =  0.24497641293057446 cost =  0.012970150075870318 iteration =  32\n",
      "m =  1.964959228791018  &  c =  0.24394762483078078 cost =  0.012861441506432498 iteration =  33\n",
      "m =  1.9651063838905483  &  c =  0.24292315716715318 cost =  0.012753644071638254 iteration =  34\n",
      "m =  1.9652529210064393  &  c =  0.24190299179584981 cost =  0.012646750134865185 iteration =  35\n",
      "m =  1.9653988427339375  &  c =  0.2408871106492245 cost =  0.012540752123496042 iteration =  36\n",
      "m =  1.9655441516573908  &  c =  0.23987549573550687 cost =  0.012435642528383722 iteration =  37\n",
      "m =  1.965688850350294  &  c =  0.23886812913848374 cost =  0.012331413903318118 iteration =  38\n",
      "m =  1.9658329413753344  &  c =  0.23786499301718173 cost =  0.012228058864499347 iteration =  39\n",
      "m =  1.965976427284437  &  c =  0.23686606960555132 cost =  0.012125570090014352 iteration =  40\n",
      "m =  1.96611931061881  &  c =  0.23587134121215222 cost =  0.012023940319318308 iteration =  41\n",
      "m =  1.9662615939089896  &  c =  0.2348807902198401 cost =  0.011923162352719984 iteration =  42\n",
      "m =  1.9664032796748852  &  c =  0.23389439908545445 cost =  0.011823229050872406 iteration =  43\n",
      "m =  1.9665443704258236  &  c =  0.23291215033950802 cost =  0.011724133334266317 iteration =  44\n",
      "m =  1.9666848686605936  &  c =  0.23193402658587725 cost =  0.011625868182728958 iteration =  45\n",
      "m =  1.96682477686749  &  c =  0.23096001050149442 cost =  0.011528426634926973 iteration =  46\n",
      "m =  1.9669640975243583  &  c =  0.22999008483604064 cost =  0.011431801787872573 iteration =  47\n",
      "m =  1.967102833098638  &  c =  0.2290242324116404 cost =  0.011335986796435469 iteration =  48\n",
      "m =  1.9672409860474063  &  c =  0.22806243612255742 cost =  0.011240974872857098 iteration =  49\n",
      "m =  1.9673785588174222  &  c =  0.22710467893489159 cost =  0.011146759286270404 iteration =  50\n",
      "m =  1.967515553845169  &  c =  0.22615094388627732 cost =  0.011053333362222221 iteration =  51\n",
      "m =  1.9676519735568982  &  c =  0.2252012140855832 cost =  0.010960690482201736 iteration =  52\n",
      "m =  1.9677878203686725  &  c =  0.22425547271261273 cost =  0.010868824083170005 iteration =  53\n",
      "m =  1.9679230966864072  &  c =  0.22331370301780648 cost =  0.01077772765709606 iteration =  54\n",
      "m =  1.968057804905915  &  c =  0.22237588832194558 cost =  0.01068739475049591 iteration =  55\n",
      "m =  1.9681919474129463  &  c =  0.221442012015856 cost =  0.010597818963974548 iteration =  56\n",
      "m =  1.9683255265832333  &  c =  0.22051205756011477 cost =  0.010508993951773687 iteration =  57\n",
      "m =  1.9684585447825311  &  c =  0.21958600848475682 cost =  0.010420913421321409 iteration =  58\n",
      "m =  1.9685910043666588  &  c =  0.21866384838898326 cost =  0.01033357113278636 iteration =  59\n",
      "m =  1.9687229076815433  &  c =  0.21774556094087114 cost =  0.010246960898636517 iteration =  60\n",
      "m =  1.9688542570632592  &  c =  0.21683112987708394 cost =  0.010161076583199884 iteration =  61\n",
      "m =  1.9689850548380705  &  c =  0.21592053900258376 cost =  0.010075912102230324 iteration =  62\n",
      "m =  1.969115303322472  &  c =  0.21501377219034432 cost =  0.009991461422476408 iteration =  63\n",
      "m =  1.9692450048232308  &  c =  0.21411081338106552 cost =  0.009907718561254601 iteration =  64\n",
      "m =  1.9693741616374258  &  c =  0.21321164658288883 cost =  0.009824677586023907 iteration =  65\n",
      "m =  1.9695027760524901  &  c =  0.21231625587111422 cost =  0.009742332613967515 iteration =  66\n",
      "m =  1.96963085034625  &  c =  0.211424625387918 cost =  0.009660677811574345 iteration =  67\n",
      "m =  1.9697583867869666  &  c =  0.21053673934207215 cost =  0.009579707394227428 iteration =  68\n",
      "m =  1.9698853876333744  &  c =  0.20965258200866438 cost =  0.009499415625792231 iteration =  69\n",
      "m =  1.970011855134723  &  c =  0.20877213772881992 cost =  0.009419796818212084 iteration =  70\n",
      "m =  1.9701377915308163  &  c =  0.207895390909424 cost =  0.009340845331104176 iteration =  71\n",
      "m =  1.970263199052051  &  c =  0.2070223260228457 cost =  0.009262555571359925 iteration =  72\n",
      "m =  1.9703880799194586  &  c =  0.20615292760666318 cost =  0.009184921992749768 iteration =  73\n",
      "m =  1.9705124363447426  &  c =  0.20528718026338946 cost =  0.009107939095528818 iteration =  74\n",
      "m =  1.970636270530318  &  c =  0.2044250686602 cost =  0.009031601426048388 iteration =  75\n",
      "m =  1.9707595846693513  &  c =  0.20356657752866103 cost =  0.00895590357636925 iteration =  76\n",
      "m =  1.970882380945798  &  c =  0.20271169166445915 cost =  0.008880840183878259 iteration =  77\n",
      "m =  1.971004661534443  &  c =  0.20186039592713217 cost =  0.008806405930909084 iteration =  78\n",
      "m =  1.9711264286009373  &  c =  0.2010126752398008 cost =  0.008732595544364678 iteration =  79\n",
      "m =  1.9712476843018374  &  c =  0.20016851458890167 cost =  0.008659403795344352 iteration =  80\n",
      "m =  1.9713684307846435  &  c =  0.19932789902392153 cost =  0.008586825498773388 iteration =  81\n",
      "m =  1.9714886701878367  &  c =  0.1984908136571323 cost =  0.008514855513035062 iteration =  82\n",
      "m =  1.971608404640918  &  c =  0.19765724366332763 cost =  0.008443488739606991 iteration =  83\n",
      "m =  1.9717276362644451  &  c =  0.1968271742795601 cost =  0.008372720122699696 iteration =  84\n",
      "m =  1.9718463671700708  &  c =  0.19600059080487992 cost =  0.00830254464889891 iteration =  85\n",
      "m =  1.9719645994605794  &  c =  0.19517747860007453 cost =  0.008232957346809368 iteration =  86\n",
      "m =  1.972082335229925  &  c =  0.1943578230874093 cost =  0.008163953286703595 iteration =  87\n",
      "m =  1.9721995765632678  &  c =  0.19354160975036935 cost =  0.008095527580172608 iteration =  88\n",
      "m =  1.972316325537011  &  c =  0.1927288241334025 cost =  0.008027675379778726 iteration =  89\n",
      "m =  1.9724325842188382  &  c =  0.19191945184166323 cost =  0.007960391878713322 iteration =  90\n",
      "m =  1.9725483546677498  &  c =  0.19111347854075778 cost =  0.007893672310455601 iteration =  91\n",
      "m =  1.9726636389340992  &  c =  0.19031088995649015 cost =  0.007827511948434973 iteration =  92\n",
      "m =  1.9727784390596288  &  c =  0.18951167187460943 cost =  0.007761906105696443 iteration =  93\n",
      "m =  1.9728927570775077  &  c =  0.18871581014055808 cost =  0.007696850134568434 iteration =  94\n",
      "m =  1.9730065950123654  &  c =  0.1879232906592211 cost =  0.007632339426333529 iteration =  95\n",
      "m =  1.9731199548803298  &  c =  0.18713409939467648 cost =  0.0075683694109021085 iteration =  96\n",
      "m =  1.9732328386890614  &  c =  0.1863482223699467 cost =  0.007504935556488389 iteration =  97\n",
      "m =  1.97334524843779  &  c =  0.185565645666751 cost =  0.0074420333692894695 iteration =  98\n",
      "m =  1.973457186117349  &  c =  0.18478635542525906 cost =  0.0073796583931671645 iteration =  99\n"
     ]
    }
   ],
   "source": [
    "gd(x,y)"
   ]
  },
  {
   "cell_type": "markdown",
   "metadata": {},
   "source": [
    "### ANN Implementation - "
   ]
  },
  {
   "cell_type": "code",
   "execution_count": 4,
   "metadata": {},
   "outputs": [],
   "source": [
    "import tensorflow as tf # tensorflow is the library which is used to do the mathematical calculations in machine learning\n",
    "from tensorflow import keras # Keras is a python embedded api which is used to implement deep learning networks .\n",
    "import matplotlib.pyplot as plt\n",
    "import numpy as np"
   ]
  },
  {
   "cell_type": "code",
   "execution_count": 5,
   "metadata": {},
   "outputs": [],
   "source": [
    "(X_train,y_train) , (X_test,y_test) = keras.datasets.mnist.load_data()"
   ]
  },
  {
   "cell_type": "code",
   "execution_count": 6,
   "metadata": {},
   "outputs": [
    {
     "name": "stdout",
     "output_type": "stream",
     "text": [
      "60000\n"
     ]
    },
    {
     "data": {
      "text/plain": [
       "10000"
      ]
     },
     "execution_count": 6,
     "metadata": {},
     "output_type": "execute_result"
    }
   ],
   "source": [
    "print(len(X_train)) # 60000 images are present in X_train.\n",
    "len(X_test)"
   ]
  },
  {
   "cell_type": "code",
   "execution_count": 7,
   "metadata": {},
   "outputs": [
    {
     "data": {
      "text/plain": [
       "(28, 28)"
      ]
     },
     "execution_count": 7,
     "metadata": {},
     "output_type": "execute_result"
    }
   ],
   "source": [
    "X_train[0].shape"
   ]
  },
  {
   "cell_type": "code",
   "execution_count": 8,
   "metadata": {},
   "outputs": [
    {
     "data": {
      "text/plain": [
       "<matplotlib.image.AxesImage at 0x2ae193ac130>"
      ]
     },
     "execution_count": 8,
     "metadata": {},
     "output_type": "execute_result"
    },
    {
     "data": {
      "image/png": "[encoded data removed]",
      "text/plain": [
       "<Figure size 480x480 with 1 Axes>"
      ]
     },
     "metadata": {},
     "output_type": "display_data"
    }
   ],
   "source": [
    "plt.matshow(X_train[1])  # mnist is digit image data"
   ]
  },
  {
   "cell_type": "code",
   "execution_count": 9,
   "metadata": {},
   "outputs": [],
   "source": [
    "# Preprocessing step -\n",
    "X_train = X_train / 255 # X_train aur X_test mein actual image ke pixel values present hai .\n",
    "X_test = X_test / 255 # 0 to 255 highest value is 255"
   ]
  },
  {
   "cell_type": "code",
   "execution_count": 10,
   "metadata": {},
   "outputs": [],
   "source": [
    "X_train_flattend = X_train.reshape(len(X_train),28*28) # reshaping step to convert pixel values from two dimensional data to single dimensional data.\n",
    "X_test_flattend = X_test.reshape(len(X_test),28*28)"
   ]
  },
  {
   "cell_type": "code",
   "execution_count": 11,
   "metadata": {},
   "outputs": [
    {
     "name": "stderr",
     "output_type": "stream",
     "text": [
      "c:\\Users\\user\\miniconda3\\lib\\site-packages\\keras\\src\\layers\\core\\dense.py:88: UserWarning: Do not pass an `input_shape`/`input_dim` argument to a layer. When using Sequential models, prefer using an `Input(shape)` object as the first layer in the model instead.\n",
      "  super().__init__(activity_regularizer=activity_regularizer, **kwargs)\n"
     ]
    }
   ],
   "source": [
    "model1 = keras.Sequential([                # with the help of keras library we can make structures of deep neural network and using sequential model to define in our network the stack of layers\n",
    "    keras.layers.Dense(10,input_dim=(784),activation='sigmoid') # 10 --> define karta ki output layers mein kitne neuron hone chaiye\n",
    "])    # activation function output layers mein kaun sa lagana chaiye .\n",
    "# Basic structure of ANN is built above and without hidden layers the output contains 10 neurons and input contains 784 neurons with activation function applied sigmoid \n",
    "# to the output layers."
   ]
  },
  {
   "cell_type": "code",
   "execution_count": 12,
   "metadata": {},
   "outputs": [],
   "source": [
    "# compiling the above structure \n",
    "model1.compile(optimizer='sgd',\n",
    "               loss='sparse_categorical_crossentropy',\n",
    "               metrics=['accuracy'])\n",
    "# small data use sgd and loss category should be mentioned metrics is used to judge the model performance."
   ]
  },
  {
   "cell_type": "code",
   "execution_count": 13,
   "metadata": {},
   "outputs": [
    {
     "name": "stdout",
     "output_type": "stream",
     "text": [
      "Epoch 1/5\n",
      "\u001b[1m1875/1875\u001b[0m \u001b[32m━━━━━━━━━━━━━━━━━━━━\u001b[0m\u001b[37m\u001b[0m \u001b[1m14s\u001b[0m 6ms/step - accuracy: 0.7093 - loss: 1.1415\n",
      "Epoch 2/5\n",
      "\u001b[1m1875/1875\u001b[0m \u001b[32m━━━━━━━━━━━━━━━━━━━━\u001b[0m\u001b[37m\u001b[0m \u001b[1m7s\u001b[0m 4ms/step - accuracy: 0.8796 - loss: 0.4724\n",
      "Epoch 3/5\n",
      "\u001b[1m1875/1875\u001b[0m \u001b[32m━━━━━━━━━━━━━━━━━━━━\u001b[0m\u001b[37m\u001b[0m \u001b[1m6s\u001b[0m 3ms/step - accuracy: 0.8899 - loss: 0.4119\n",
      "Epoch 4/5\n",
      "\u001b[1m1875/1875\u001b[0m \u001b[32m━━━━━━━━━━━━━━━━━━━━\u001b[0m\u001b[37m\u001b[0m \u001b[1m18s\u001b[0m 10ms/step - accuracy: 0.8945 - loss: 0.3860\n",
      "Epoch 5/5\n",
      "\u001b[1m1875/1875\u001b[0m \u001b[32m━━━━━━━━━━━━━━━━━━━━\u001b[0m\u001b[37m\u001b[0m \u001b[1m9s\u001b[0m 5ms/step - accuracy: 0.8993 - loss: 0.3632\n"
     ]
    },
    {
     "data": {
      "text/plain": [
       "<keras.src.callbacks.history.History at 0x2ae193c7430>"
      ]
     },
     "execution_count": 13,
     "metadata": {},
     "output_type": "execute_result"
    }
   ],
   "source": [
    "# Now training the neural network -\n",
    "model1.fit(X_train_flattend,y_train,epochs=5) # epoch is given "
   ]
  },
  {
   "cell_type": "code",
   "execution_count": 14,
   "metadata": {},
   "outputs": [
    {
     "name": "stdout",
     "output_type": "stream",
     "text": [
      "\u001b[1m313/313\u001b[0m \u001b[32m━━━━━━━━━━━━━━━━━━━━\u001b[0m\u001b[37m\u001b[0m \u001b[1m3s\u001b[0m 7ms/step - accuracy: 0.8927 - loss: 0.3839\n"
     ]
    },
    {
     "data": {
      "text/plain": [
       "[0.335749089717865, 0.9074000120162964]"
      ]
     },
     "execution_count": 14,
     "metadata": {},
     "output_type": "execute_result"
    }
   ],
   "source": [
    "model1.evaluate(X_test_flattend,y_test)"
   ]
  },
  {
   "cell_type": "code",
   "execution_count": 15,
   "metadata": {},
   "outputs": [
    {
     "name": "stdout",
     "output_type": "stream",
     "text": [
      "\u001b[1m313/313\u001b[0m \u001b[32m━━━━━━━━━━━━━━━━━━━━\u001b[0m\u001b[37m\u001b[0m \u001b[1m1s\u001b[0m 4ms/step\n"
     ]
    },
    {
     "data": {
      "text/plain": [
       "array([0.41268763, 0.00310747, 0.47534478, 0.85580605, 0.15557545,\n",
       "       0.24647973, 0.01402952, 0.9997145 , 0.43567017, 0.9295343 ],\n",
       "      dtype=float32)"
      ]
     },
     "execution_count": 15,
     "metadata": {},
     "output_type": "execute_result"
    }
   ],
   "source": [
    "predicted = model1.predict(X_test_flattend)\n",
    "predicted[0]"
   ]
  },
  {
   "cell_type": "code",
   "execution_count": 16,
   "metadata": {},
   "outputs": [
    {
     "data": {
      "text/plain": [
       "7"
      ]
     },
     "execution_count": 16,
     "metadata": {},
     "output_type": "execute_result"
    }
   ],
   "source": [
    "# which image is maximum equal or matching with test image can be find -\n",
    "np.argmax(predicted[0]) # final prediction of our model "
   ]
  },
  {
   "cell_type": "code",
   "execution_count": 17,
   "metadata": {},
   "outputs": [
    {
     "data": {
      "text/plain": [
       "<matplotlib.image.AxesImage at 0x2ae1ad24d00>"
      ]
     },
     "execution_count": 17,
     "metadata": {},
     "output_type": "execute_result"
    },
    {
     "data": {
      "image/png": "[encoded data removed]",
      "text/plain": [
       "<Figure size 480x480 with 1 Axes>"
      ]
     },
     "metadata": {},
     "output_type": "display_data"
    }
   ],
   "source": [
    "plt.matshow(X_test[0])"
   ]
  },
  {
   "cell_type": "code",
   "execution_count": 18,
   "metadata": {},
   "outputs": [],
   "source": [
    "# Now building again one ANN model using hidden layer concept -\n",
    "model2 = keras.Sequential([\n",
    "    keras.layers.Dense(300,input_dim=(784),activation='relu'), # Here 300 is number of neurons in the hidden layer 1 and hidden layer neuron mein relu lagega aur sirf ek hidden layer hogi ussme 300 neurons hai \n",
    "    keras.layers.Dense(10,activation='sigmoid') # output layers description\n",
    "])"
   ]
  },
  {
   "cell_type": "code",
   "execution_count": 19,
   "metadata": {},
   "outputs": [],
   "source": [
    "# compiling the above structure \n",
    "model2.compile(optimizer='sgd',\n",
    "               loss='sparse_categorical_crossentropy',\n",
    "               metrics=['accuracy'])"
   ]
  },
  {
   "cell_type": "code",
   "execution_count": 20,
   "metadata": {},
   "outputs": [
    {
     "name": "stdout",
     "output_type": "stream",
     "text": [
      "Epoch 1/5\n",
      "\u001b[1m1875/1875\u001b[0m \u001b[32m━━━━━━━━━━━━━━━━━━━━\u001b[0m\u001b[37m\u001b[0m \u001b[1m7s\u001b[0m 4ms/step - accuracy: 0.9013 - loss: 0.3505\n",
      "Epoch 2/5\n",
      "\u001b[1m1875/1875\u001b[0m \u001b[32m━━━━━━━━━━━━━━━━━━━━\u001b[0m\u001b[37m\u001b[0m \u001b[1m10s\u001b[0m 3ms/step - accuracy: 0.9056 - loss: 0.3414\n",
      "Epoch 3/5\n",
      "\u001b[1m1875/1875\u001b[0m \u001b[32m━━━━━━━━━━━━━━━━━━━━\u001b[0m\u001b[37m\u001b[0m \u001b[1m9s\u001b[0m 5ms/step - accuracy: 0.9078 - loss: 0.3320\n",
      "Epoch 4/5\n",
      "\u001b[1m1875/1875\u001b[0m \u001b[32m━━━━━━━━━━━━━━━━━━━━\u001b[0m\u001b[37m\u001b[0m \u001b[1m8s\u001b[0m 4ms/step - accuracy: 0.9084 - loss: 0.3264\n",
      "Epoch 5/5\n",
      "\u001b[1m1875/1875\u001b[0m \u001b[32m━━━━━━━━━━━━━━━━━━━━\u001b[0m\u001b[37m\u001b[0m \u001b[1m9s\u001b[0m 5ms/step - accuracy: 0.9112 - loss: 0.3197\n"
     ]
    },
    {
     "data": {
      "text/plain": [
       "<keras.src.callbacks.history.History at 0x2ae1ad76530>"
      ]
     },
     "execution_count": 20,
     "metadata": {},
     "output_type": "execute_result"
    }
   ],
   "source": [
    "model1.fit(X_train_flattend,y_train,epochs=5)"
   ]
  },
  {
   "cell_type": "code",
   "execution_count": 21,
   "metadata": {},
   "outputs": [
    {
     "name": "stdout",
     "output_type": "stream",
     "text": [
      "\u001b[1m313/313\u001b[0m \u001b[32m━━━━━━━━━━━━━━━━━━━━\u001b[0m\u001b[37m\u001b[0m \u001b[1m2s\u001b[0m 6ms/step - accuracy: 0.9041 - loss: 0.3503\n"
     ]
    },
    {
     "data": {
      "text/plain": [
       "[0.30644044280052185, 0.9161999821662903]"
      ]
     },
     "execution_count": 21,
     "metadata": {},
     "output_type": "execute_result"
    }
   ],
   "source": [
    "model1.evaluate(X_test_flattend,y_test)"
   ]
  },
  {
   "cell_type": "code",
   "execution_count": 22,
   "metadata": {},
   "outputs": [],
   "source": [
    "model3 = keras.Sequential([\n",
    "    keras.layers.Dense(300,input_dim=(784),activation='relu'), # Hidden  layer 1 \n",
    "    keras.layers.Dense(200,activation='relu'), # Hidden layer 2\n",
    "    keras.layers.Dense(10,activation='sigmoid')\n",
    "])"
   ]
  },
  {
   "cell_type": "code",
   "execution_count": 23,
   "metadata": {},
   "outputs": [
    {
     "name": "stdout",
     "output_type": "stream",
     "text": [
      "Epoch 1/5\n",
      "\u001b[1m1875/1875\u001b[0m \u001b[32m━━━━━━━━━━━━━━━━━━━━\u001b[0m\u001b[37m\u001b[0m \u001b[1m15s\u001b[0m 7ms/step - accuracy: 0.7340 - loss: 0.9972\n",
      "Epoch 2/5\n",
      "\u001b[1m1875/1875\u001b[0m \u001b[32m━━━━━━━━━━━━━━━━━━━━\u001b[0m\u001b[37m\u001b[0m \u001b[1m17s\u001b[0m 9ms/step - accuracy: 0.9153 - loss: 0.2994\n",
      "Epoch 3/5\n",
      "\u001b[1m1875/1875\u001b[0m \u001b[32m━━━━━━━━━━━━━━━━━━━━\u001b[0m\u001b[37m\u001b[0m \u001b[1m15s\u001b[0m 8ms/step - accuracy: 0.9333 - loss: 0.2356\n",
      "Epoch 4/5\n",
      "\u001b[1m1875/1875\u001b[0m \u001b[32m━━━━━━━━━━━━━━━━━━━━\u001b[0m\u001b[37m\u001b[0m \u001b[1m23s\u001b[0m 9ms/step - accuracy: 0.9421 - loss: 0.2021\n",
      "Epoch 5/5\n",
      "\u001b[1m1875/1875\u001b[0m \u001b[32m━━━━━━━━━━━━━━━━━━━━\u001b[0m\u001b[37m\u001b[0m \u001b[1m16s\u001b[0m 9ms/step - accuracy: 0.9525 - loss: 0.1674\n"
     ]
    },
    {
     "data": {
      "text/plain": [
       "<keras.src.callbacks.history.History at 0x2ae1ad743d0>"
      ]
     },
     "execution_count": 23,
     "metadata": {},
     "output_type": "execute_result"
    }
   ],
   "source": [
    "model3.compile(optimizer='sgd',\n",
    "               loss='sparse_categorical_crossentropy',\n",
    "               metrics=['accuracy'])\n",
    "\n",
    "model3.fit(X_train_flattend,y_train,epochs=5)"
   ]
  },
  {
   "cell_type": "code",
   "execution_count": 24,
   "metadata": {},
   "outputs": [
    {
     "name": "stdout",
     "output_type": "stream",
     "text": [
      "\u001b[1m313/313\u001b[0m \u001b[32m━━━━━━━━━━━━━━━━━━━━\u001b[0m\u001b[37m\u001b[0m \u001b[1m2s\u001b[0m 6ms/step - accuracy: 0.9431 - loss: 0.1866\n"
     ]
    },
    {
     "data": {
      "text/plain": [
       "[0.16061678528785706, 0.9517999887466431]"
      ]
     },
     "execution_count": 24,
     "metadata": {},
     "output_type": "execute_result"
    }
   ],
   "source": [
    "model3.evaluate(X_test_flattend,y_test)"
   ]
  },
  {
   "cell_type": "code",
   "execution_count": 25,
   "metadata": {},
   "outputs": [],
   "source": [
    "model4 = keras.Sequential([\n",
    "    keras.layers.Dense(300,input_dim=(784),activation='relu'),\n",
    "    keras.layers.Dense(200,activation='relu'),\n",
    "    keras.layers.Dense(100,activation='relu'),\n",
    "    keras.layers.Dense(10,activation='sigmoid')\n",
    "])"
   ]
  },
  {
   "cell_type": "code",
   "execution_count": 26,
   "metadata": {},
   "outputs": [
    {
     "name": "stdout",
     "output_type": "stream",
     "text": [
      "Epoch 1/5\n",
      "\u001b[1m1875/1875\u001b[0m \u001b[32m━━━━━━━━━━━━━━━━━━━━\u001b[0m\u001b[37m\u001b[0m \u001b[1m18s\u001b[0m 8ms/step - accuracy: 0.7366 - loss: 0.9781\n",
      "Epoch 2/5\n",
      "\u001b[1m1875/1875\u001b[0m \u001b[32m━━━━━━━━━━━━━━━━━━━━\u001b[0m\u001b[37m\u001b[0m \u001b[1m17s\u001b[0m 9ms/step - accuracy: 0.9218 - loss: 0.2674\n",
      "Epoch 3/5\n",
      "\u001b[1m1875/1875\u001b[0m \u001b[32m━━━━━━━━━━━━━━━━━━━━\u001b[0m\u001b[37m\u001b[0m \u001b[1m14s\u001b[0m 7ms/step - accuracy: 0.9406 - loss: 0.2040\n",
      "Epoch 4/5\n",
      "\u001b[1m1875/1875\u001b[0m \u001b[32m━━━━━━━━━━━━━━━━━━━━\u001b[0m\u001b[37m\u001b[0m \u001b[1m16s\u001b[0m 8ms/step - accuracy: 0.9521 - loss: 0.1661\n",
      "Epoch 5/5\n",
      "\u001b[1m1875/1875\u001b[0m \u001b[32m━━━━━━━━━━━━━━━━━━━━\u001b[0m\u001b[37m\u001b[0m \u001b[1m14s\u001b[0m 8ms/step - accuracy: 0.9604 - loss: 0.1377\n"
     ]
    },
    {
     "data": {
      "text/plain": [
       "<keras.src.callbacks.history.History at 0x2ae1c1a6680>"
      ]
     },
     "execution_count": 26,
     "metadata": {},
     "output_type": "execute_result"
    }
   ],
   "source": [
    "model4.compile(optimizer='sgd',\n",
    "               loss='sparse_categorical_crossentropy',\n",
    "               metrics=['accuracy'])\n",
    "model4.fit(X_train_flattend,y_train,epochs=5)"
   ]
  },
  {
   "cell_type": "code",
   "execution_count": 27,
   "metadata": {},
   "outputs": [
    {
     "name": "stdout",
     "output_type": "stream",
     "text": [
      "\u001b[1m313/313\u001b[0m \u001b[32m━━━━━━━━━━━━━━━━━━━━\u001b[0m\u001b[37m\u001b[0m \u001b[1m3s\u001b[0m 6ms/step - accuracy: 0.9541 - loss: 0.1547\n"
     ]
    },
    {
     "data": {
      "text/plain": [
       "[0.13378123939037323, 0.9596999883651733]"
      ]
     },
     "execution_count": 27,
     "metadata": {},
     "output_type": "execute_result"
    }
   ],
   "source": [
    "model4.evaluate(X_test_flattend,y_test)"
   ]
  },
  {
   "cell_type": "code",
   "execution_count": 28,
   "metadata": {},
   "outputs": [],
   "source": [
    "model5 = keras.Sequential([\n",
    "    keras.layers.Dense(300,input_dim=(784),activation='relu'),\n",
    "    keras.layers.Dense(200,activation='relu'),\n",
    "    keras.layers.Dense(100,activation='relu'),\n",
    "    keras.layers.Dense(10,activation='sigmoid')\n",
    "])"
   ]
  },
  {
   "cell_type": "code",
   "execution_count": 29,
   "metadata": {},
   "outputs": [],
   "source": [
    "model5.compile(optimizer='adam',\n",
    "               loss='sparse_categorical_crossentropy',\n",
    "               metrics=['accuracy'])"
   ]
  },
  {
   "cell_type": "code",
   "execution_count": 30,
   "metadata": {},
   "outputs": [
    {
     "name": "stdout",
     "output_type": "stream",
     "text": [
      "Epoch 1/5\n",
      "\u001b[1m1875/1875\u001b[0m \u001b[32m━━━━━━━━━━━━━━━━━━━━\u001b[0m\u001b[37m\u001b[0m \u001b[1m28s\u001b[0m 11ms/step - accuracy: 0.8877 - loss: 0.3644\n",
      "Epoch 2/5\n",
      "\u001b[1m1875/1875\u001b[0m \u001b[32m━━━━━━━━━━━━━━━━━━━━\u001b[0m\u001b[37m\u001b[0m \u001b[1m20s\u001b[0m 11ms/step - accuracy: 0.9719 - loss: 0.0917\n",
      "Epoch 3/5\n",
      "\u001b[1m1875/1875\u001b[0m \u001b[32m━━━━━━━━━━━━━━━━━━━━\u001b[0m\u001b[37m\u001b[0m \u001b[1m24s\u001b[0m 12ms/step - accuracy: 0.9795 - loss: 0.0642\n",
      "Epoch 4/5\n",
      "\u001b[1m1875/1875\u001b[0m \u001b[32m━━━━━━━━━━━━━━━━━━━━\u001b[0m\u001b[37m\u001b[0m \u001b[1m45s\u001b[0m 15ms/step - accuracy: 0.9852 - loss: 0.0466\n",
      "Epoch 5/5\n",
      "\u001b[1m1875/1875\u001b[0m \u001b[32m━━━━━━━━━━━━━━━━━━━━\u001b[0m\u001b[37m\u001b[0m \u001b[1m24s\u001b[0m 13ms/step - accuracy: 0.9869 - loss: 0.0397\n"
     ]
    },
    {
     "data": {
      "text/plain": [
       "<keras.src.callbacks.history.History at 0x2ae1c3972e0>"
      ]
     },
     "execution_count": 30,
     "metadata": {},
     "output_type": "execute_result"
    }
   ],
   "source": [
    "model5.fit(X_train_flattend,y_train,epochs=5)"
   ]
  },
  {
   "cell_type": "code",
   "execution_count": 31,
   "metadata": {},
   "outputs": [],
   "source": [
    "model6 = keras.Sequential([\n",
    "    keras.layers.Dense(300,input_dim=(784),activation='relu'),\n",
    "    keras.layers.Dense(10,activation='sigmoid')\n",
    "])"
   ]
  },
  {
   "cell_type": "markdown",
   "metadata": {},
   "source": [
    "\n",
    "1.  Dense Layer (Hidden Layer):\n",
    "   - Number of Neurons: 300\n",
    "   - Input Dimension: 784\n",
    "   - Activation Function: ReLU (Rectified Linear Unit)\n",
    "   - Description: This is the first hidden layer in the neural network. It consists of 300 neurons, each connected to every input node in the input layer. The input dimension is specified as 784, which indicates that the input layer has 784 nodes. The activation function used in this layer is ReLU, which introduces non-linearity to the model.\n",
    "\n",
    "2. Dense Layer (Output Layer):\n",
    "   - Number of Neurons: 10\n",
    "   - Activation Function: Sigmoid\n",
    "   - Description: This is the output layer of the neural network. It consists of 10 neurons, each representing one of the output classes. The activation function used in this layer is Sigmoid, which is commonly used for binary classification problems. It squashes the output values to the range [0, 1], which can be interpreted as probabilities.\n",
    "\n",
    "Overall, this model architecture has two layers: one hidden layer with 300 neurons and a ReLU activation function, and one output layer with 10 neurons and a sigmoid activation function. The model is designed for tasks such as classification, where the input consists of 784 features and the output consists of 10 classes."
   ]
  },
  {
   "cell_type": "code",
   "execution_count": 32,
   "metadata": {},
   "outputs": [],
   "source": [
    "model6.compile(optimizer='adam',\n",
    "               loss='sparse_categorical_crossentropy',\n",
    "               metrics=['accuracy'])"
   ]
  },
  {
   "cell_type": "code",
   "execution_count": 33,
   "metadata": {},
   "outputs": [
    {
     "name": "stdout",
     "output_type": "stream",
     "text": [
      "Epoch 1/5\n",
      "\u001b[1m1875/1875\u001b[0m \u001b[32m━━━━━━━━━━━━━━━━━━━━\u001b[0m\u001b[37m\u001b[0m \u001b[1m22s\u001b[0m 10ms/step - accuracy: 0.8934 - loss: 0.3663\n",
      "Epoch 2/5\n",
      "\u001b[1m1875/1875\u001b[0m \u001b[32m━━━━━━━━━━━━━━━━━━━━\u001b[0m\u001b[37m\u001b[0m \u001b[1m24s\u001b[0m 12ms/step - accuracy: 0.9734 - loss: 0.0914\n",
      "Epoch 3/5\n",
      "\u001b[1m1875/1875\u001b[0m \u001b[32m━━━━━━━━━━━━━━━━━━━━\u001b[0m\u001b[37m\u001b[0m \u001b[1m17s\u001b[0m 9ms/step - accuracy: 0.9818 - loss: 0.0593\n",
      "Epoch 4/5\n",
      "\u001b[1m1875/1875\u001b[0m \u001b[32m━━━━━━━━━━━━━━━━━━━━\u001b[0m\u001b[37m\u001b[0m \u001b[1m17s\u001b[0m 9ms/step - accuracy: 0.9872 - loss: 0.0403\n",
      "Epoch 5/5\n",
      "\u001b[1m1875/1875\u001b[0m \u001b[32m━━━━━━━━━━━━━━━━━━━━\u001b[0m\u001b[37m\u001b[0m \u001b[1m18s\u001b[0m 10ms/step - accuracy: 0.9920 - loss: 0.0279\n"
     ]
    },
    {
     "data": {
      "text/plain": [
       "<keras.src.callbacks.history.History at 0x2ae1c61d9c0>"
      ]
     },
     "execution_count": 33,
     "metadata": {},
     "output_type": "execute_result"
    }
   ],
   "source": [
    "model6.fit(X_train_flattend,y_train,epochs=5)"
   ]
  },
  {
   "cell_type": "markdown",
   "metadata": {},
   "source": [
    "There is a myth that the hidden layers increase and the accuracy also increased."
   ]
  },
  {
   "cell_type": "code",
   "execution_count": 34,
   "metadata": {},
   "outputs": [
    {
     "name": "stdout",
     "output_type": "stream",
     "text": [
      "\u001b[1m313/313\u001b[0m \u001b[32m━━━━━━━━━━━━━━━━━━━━\u001b[0m\u001b[37m\u001b[0m \u001b[1m3s\u001b[0m 8ms/step\n"
     ]
    }
   ],
   "source": [
    "predicted = model5.predict(X_test_flattend) # 313 is number of samples (In batches of 32) == 60000"
   ]
  },
  {
   "cell_type": "code",
   "execution_count": 35,
   "metadata": {},
   "outputs": [
    {
     "data": {
      "text/plain": [
       "array([3.95306647e-02, 9.94099677e-01, 1.00000000e+00, 9.68636274e-01,\n",
       "       1.09225235e-04, 1.60540699e-03, 4.92309653e-07, 2.17088893e-01,\n",
       "       5.99622763e-05, 2.10754897e-05], dtype=float32)"
      ]
     },
     "execution_count": 35,
     "metadata": {},
     "output_type": "execute_result"
    }
   ],
   "source": [
    "predicted[1]"
   ]
  },
  {
   "cell_type": "code",
   "execution_count": 36,
   "metadata": {},
   "outputs": [
    {
     "data": {
      "text/plain": [
       "2"
      ]
     },
     "execution_count": 36,
     "metadata": {},
     "output_type": "execute_result"
    }
   ],
   "source": [
    "np.argmax(predicted[1])"
   ]
  },
  {
   "cell_type": "code",
   "execution_count": 37,
   "metadata": {},
   "outputs": [
    {
     "data": {
      "text/plain": [
       "<matplotlib.image.AxesImage at 0x2ae3cc1c370>"
      ]
     },
     "execution_count": 37,
     "metadata": {},
     "output_type": "execute_result"
    },
    {
     "data": {
      "image/png": "[encoded data removed]",
      "text/plain": [
       "<Figure size 480x480 with 1 Axes>"
      ]
     },
     "metadata": {},
     "output_type": "display_data"
    }
   ],
   "source": [
    "plt.matshow(X_test[1])"
   ]
  },
  {
   "cell_type": "markdown",
   "metadata": {},
   "source": [
    "### More Implementation on ANN (practice)"
   ]
  },
  {
   "cell_type": "code",
   "execution_count": null,
   "metadata": {},
   "outputs": [],
   "source": [
    "model7 = keras.Sequential([\n",
    "    keras.layers.Dense(300,input_dim=(784),activation='relu')\n",
    "    keras.layers.Dense(20)\n",
    "])"
   ]
  }
 ],
 "metadata": {
  "kernelspec": {
   "display_name": "base",
   "language": "python",
   "name": "python3"
  },
  "language_info": {
   "codemirror_mode": {
    "name": "ipython",
    "version": 3
   },
   "file_extension": ".py",
   "mimetype": "text/x-python",
   "name": "python",
   "nbconvert_exporter": "python",
   "pygments_lexer": "ipython3",
   "version": "3.10.10"
  }
 },
 "nbformat": 4,
 "nbformat_minor": 2
}
