{
 "cells": [
  {
   "cell_type": "markdown",
   "metadata": {},
   "source": [
    "## Project Implementation "
   ]
  },
  {
   "cell_type": "code",
   "execution_count": 1,
   "metadata": {},
   "outputs": [],
   "source": [
    "# 15 feb -->\n",
    "import pandas as pd\n",
    "import numpy as np\n",
    "import warnings\n",
    "warnings.simplefilter('ignore')\n",
    "import matplotlib.pyplot as plt\n",
    "from keras.models import Sequential\n",
    "from keras.layers import Convolution2D\n",
    "from keras.layers import MaxPooling2D\n",
    "from keras.layers import Dense\n",
    "from keras.layers import Flatten"
   ]
  },
  {
   "cell_type": "code",
   "execution_count": 2,
   "metadata": {},
   "outputs": [],
   "source": [
    "from tensorflow.keras.preprocessing.image import ImageDataGenerator\n",
    "train = ImageDataGenerator(rescale = 1./255)\n",
    "test = ImageDataGenerator(rescale = 1./255)"
   ]
  },
  {
   "cell_type": "code",
   "execution_count": 3,
   "metadata": {},
   "outputs": [
    {
     "ename": "SyntaxError",
     "evalue": "positional argument follows keyword argument (2945648667.py, line 17)",
     "output_type": "error",
     "traceback": [
      "\u001b[1;36m  Cell \u001b[1;32mIn[3], line 17\u001b[1;36m\u001b[0m\n\u001b[1;33m    save_to_dir)\u001b[0m\n\u001b[1;37m               ^\u001b[0m\n\u001b[1;31mSyntaxError\u001b[0m\u001b[1;31m:\u001b[0m positional argument follows keyword argument\n"
     ]
    }
   ],
   "source": [
    "from tensorflow.keras.utils import img_to_array,array_to_img,load_img\n",
    "\n",
    "dataaug = ImageDataGenerator(\n",
    "    rotation_range=20,\n",
    "    width_shift_range=0.3,    # data augmentation object the method which is defining the how image variations will be generated.\n",
    "    height_shift_range=0.1,\n",
    "    zoom_range=0.5,\n",
    "    horizontal_flip =True,\n",
    "    vertical_flip = True,\n",
    "    fill_mode='nearest'\n",
    ")\n",
    "img = load_img('2.png')\n",
    "pic = img_to_array(img) # 100,100,3 \n",
    "pic = pic.reshape((1,)+pic.shape) # --> reshape 1,100,100,3\n",
    "i=0\n",
    "for x in dataaug.flow(pic,batch_size=1,\n",
    "                          save_to_dir)\n"
   ]
  },
  {
   "cell_type": "code",
   "execution_count": null,
   "metadata": {},
   "outputs": [
    {
     "ename": "AttributeError",
     "evalue": "'Sequential' object has no attribute 'fit_generator'",
     "output_type": "error",
     "traceback": [
      "\u001b[1;31m---------------------------------------------------------------------------\u001b[0m",
      "\u001b[1;31mAttributeError\u001b[0m                            Traceback (most recent call last)",
      "Cell \u001b[1;32mIn[16], line 13\u001b[0m\n\u001b[0;32m      7\u001b[0m classifier\u001b[38;5;241m.\u001b[39madd(Dense(\u001b[38;5;241m1\u001b[39m,activation\u001b[38;5;241m=\u001b[39m\u001b[38;5;124m'\u001b[39m\u001b[38;5;124msigmoid\u001b[39m\u001b[38;5;124m'\u001b[39m)) \u001b[38;5;66;03m# output layer neuron is 1 because it is a binary classification problem which give result as cat or dog\u001b[39;00m\n\u001b[0;32m      9\u001b[0m classifier\u001b[38;5;241m.\u001b[39mcompile(optimizer\u001b[38;5;241m=\u001b[39m\u001b[38;5;124m'\u001b[39m\u001b[38;5;124madam\u001b[39m\u001b[38;5;124m'\u001b[39m,\n\u001b[0;32m     10\u001b[0m                    loss\u001b[38;5;241m=\u001b[39m\u001b[38;5;124m'\u001b[39m\u001b[38;5;124mBinaryCrossentropy\u001b[39m\u001b[38;5;124m'\u001b[39m,\n\u001b[0;32m     11\u001b[0m                    metrics\u001b[38;5;241m=\u001b[39m[\u001b[38;5;124m'\u001b[39m\u001b[38;5;124maccuracy\u001b[39m\u001b[38;5;124m'\u001b[39m])\n\u001b[1;32m---> 13\u001b[0m \u001b[43mclassifier\u001b[49m\u001b[38;5;241;43m.\u001b[39;49m\u001b[43mfit_generator\u001b[49m(train_data,epochs\u001b[38;5;241m=\u001b[39m\u001b[38;5;241m10\u001b[39m,validation_data\u001b[38;5;241m=\u001b[39mtest_data)\n",
      "\u001b[1;31mAttributeError\u001b[0m: 'Sequential' object has no attribute 'fit_generator'"
     ]
    }
   ],
   "source": [
    "# Making a CNN neural network -\n",
    "classifier =Sequential()\n",
    "classifier.add(Convolution2D(32,3,3,input_shape=(100,100,3),activation='relu')) # 32 ,3,3 - size of the filter should be 3*3 and input_shape the image can be accepted in two dimension that is why here is here it is written 100,3,3 not 784 just like in ANN because in ANN the image cannot be accepted in form of two dimensional it has to be one dimension.\n",
    "classifier.add(MaxPooling2D(pool_size=(2,2))) # 100,100,3 - RGV \n",
    "classifier.add(Flatten())\n",
    "classifier.add(Dense(128,activation='relu')) # input layer neurons\n",
    "classifier.add(Dense(1,activation='sigmoid')) # output layer neuron is 1 because it is a binary classification problem which give result as cat or dog\n",
    "\n",
    "classifier.compile(optimizer='adam',\n",
    "                   loss='BinaryCrossentropy',\n",
    "                   metrics=['accuracy'])\n",
    "\n",
    "classifier.fit_generator(train_data,epochs=10,validation_data=test_data) # data augmentation ko use kar rha hu tabhi fit generator ka use kiya\n",
    "# data augmentation means the image will be same but it has various variations."
   ]
  },
  {
   "cell_type": "code",
   "execution_count": null,
   "metadata": {},
   "outputs": [],
   "source": []
  }
 ],
 "metadata": {
  "kernelspec": {
   "display_name": "base",
   "language": "python",
   "name": "python3"
  },
  "language_info": {
   "codemirror_mode": {
    "name": "ipython",
    "version": 3
   },
   "file_extension": ".py",
   "mimetype": "text/x-python",
   "name": "python",
   "nbconvert_exporter": "python",
   "pygments_lexer": "ipython3",
   "version": "3.10.10"
  }
 },
 "nbformat": 4,
 "nbformat_minor": 2
}
